{
 "cells": [
  {
   "cell_type": "code",
   "execution_count": 1,
   "metadata": {
    "collapsed": true
   },
   "outputs": [],
   "source": [
    "import re\n",
    "from bs4 import BeautifulSoup"
   ]
  },
  {
   "cell_type": "code",
   "execution_count": 2,
   "metadata": {},
   "outputs": [
    {
     "ename": "FileNotFoundError",
     "evalue": "[Errno 2] No such file or directory: 'Regression_optimization_demos.html'",
     "output_type": "error",
     "traceback": [
      "\u001b[0;31m---------------------------------------------------------------------------\u001b[0m",
      "\u001b[0;31mFileNotFoundError\u001b[0m                         Traceback (most recent call last)",
      "\u001b[0;32m<ipython-input-2-bf98256875c2>\u001b[0m in \u001b[0;36m<module>\u001b[0;34m()\u001b[0m\n\u001b[1;32m      1\u001b[0m \u001b[0mfilename\u001b[0m \u001b[0;34m=\u001b[0m \u001b[0;34m\"Regression_optimization_demos.html\"\u001b[0m\u001b[0;34m\u001b[0m\u001b[0m\n\u001b[0;32m----> 2\u001b[0;31m \u001b[0msoup\u001b[0m \u001b[0;34m=\u001b[0m \u001b[0mBeautifulSoup\u001b[0m\u001b[0;34m(\u001b[0m\u001b[0mopen\u001b[0m\u001b[0;34m(\u001b[0m\u001b[0mfilename\u001b[0m\u001b[0;34m)\u001b[0m\u001b[0;34m,\u001b[0m\u001b[0;34m\"lxml\"\u001b[0m\u001b[0;34m)\u001b[0m\u001b[0;34m\u001b[0m\u001b[0m\n\u001b[0m",
      "\u001b[0;31mFileNotFoundError\u001b[0m: [Errno 2] No such file or directory: 'Regression_optimization_demos.html'"
     ]
    }
   ],
   "source": [
    "filename = \"Regression_optimization_demos.html\"\n",
    "soup = BeautifulSoup(open(filename),\"lxml\")"
   ]
  },
  {
   "cell_type": "code",
   "execution_count": null,
   "metadata": {
    "collapsed": true
   },
   "outputs": [],
   "source": [
    "# page_title becomes the page title and series becomes the series name (duh!)\n",
    "foo = soup.find_all('h1')[0]\n",
    "page_title = foo.next_element\n",
    "foo = soup.find_all('h2')[0]\n",
    "series = foo.next_element\n",
    "\n",
    "# name will become the filename: eg, name.html and name.ipynb\n",
    "name = soup.html.head.title.string\n",
    "\n",
    "# change title to page_title\n",
    "soup.html.head.title.string = page_title\n",
    "\n",
    "# assign series URL\n",
    "if 'supervised' in series.lower():\n",
    "    series_url = 'Supervised_Learning.html'\n",
    "\n",
    "if 'reinforcement' in series.lower():\n",
    "    series_url = 'Reinforcement_Learning.html'\n",
    "\n",
    "if 'optimization' in series.lower():\n",
    "    series_url = 'Mathematical_Optimization.html' "
   ]
  },
  {
   "cell_type": "code",
   "execution_count": null,
   "metadata": {
    "collapsed": true
   },
   "outputs": [],
   "source": [
    "# This script adds navigation bar + sharing logos + title\n",
    "script_1 = '''\n",
    "<!-- uncomment to add back menu\n",
    "<div style=\"text-align:center !important; padding-top:58px;\">\n",
    "\n",
    "\t\t\t\t<a href=\"../../../index.html\" style=\"font-family: inherit; font-weight: 200; letter-spacing: 1.5px; color: #222; font-size: 97%;\">HOME</a>&nbsp;&nbsp;&nbsp;&nbsp;&nbsp;&nbsp;&nbsp;&nbsp;&nbsp;&nbsp;&nbsp;&nbsp;&nbsp;<a href=\"about.html\" style=\"font-family: inherit; font-weight: 200; letter-spacing: 1.5px; color: #222; font-size: 97%;\">ABOUT</a>\n",
    "\t\t\n",
    "\n",
    "</div> -->\n",
    "\n",
    "<br><br><br>\n",
    "\n",
    "<!-- share buttons -->\n",
    "<div style=\"width: 53%; margin:auto;\">\n",
    "\n",
    "\t<div id=\"1\" style=\"width: 75%; float:left;\">\n",
    "\t\t<span style=\"color:black; font-family:'lato', sans-serif; font-size: 18px;\">code</span>\n",
    "\t\t<div style=\"width: 95px; border-bottom: solid 1px; border-color:black;\">\n",
    "\t\t\n",
    "\t\t\t<div class=\"logo-share\"></div>\n",
    "\t\t\t<div class=\"logo-share\"></div>\n",
    "\n",
    "\t\t\t<div class=\"logo-share\">\n",
    "\t\t\t\t<!-- github -->\n",
    "\t\t\t\t<a target=\"_blank\" href=\"https://github.com/jermwatt/mlrefined/blob/master/'''+name+'''.ipynb\">\n",
    "\t\t\t\t\t<img src=\"../../../demo_images/github.png\" width=28 height=28 onmouseover=\"this.src='demo_images/github_filled.png';\" onmouseout=\"this.src='demo_images/github.png';\">\n",
    "\t\t\t\t</a>\n",
    "\t\t\t</div>\n",
    "\t\t</div>\n",
    "\t</div>\n",
    "\n",
    "\t<div id=\"2\" style=\"width: 25%; float:left;\">\n",
    "\t\t<span style=\"color:black; font-family:'lato', sans-serif; font-size: 18px;\">share</span>\n",
    "\t\t<div style=\"width: 210px; border-bottom: solid 1px; border-color:black;\">\n",
    "\n",
    "\t\t\t<div class=\"logo-share\"></div>\n",
    "\t\t\t<div class=\"logo-share\"></div>\n",
    "\n",
    "\t\t\t<div class=\"logo-share\">\n",
    "\t\t\t\t<!-- linkedin -->\n",
    "\t\t\t\t<a target=\"_blank\" href=\"https://www.linkedin.com/cws/share?url=https%3A%2F%2Fjermwatt.github.io%2Fmlrefined%2F'''+name+'''.html\">\n",
    "\t\t\t\t\t<img src=\"demo_images/linkedin.png\" width=28 height=28 onmouseover=\"this.src='demo_images/linkedin_filled.png';\" onmouseout=\"this.src='demo_images/linkedin.png';\">\n",
    "\t\t\t\t</a>\n",
    "\t\t\t</div>\n",
    "\n",
    "\t\t\t<div class=\"logo-share\"></div>\n",
    "\n",
    "\t\t\t<div class=\"logo-share\">\n",
    "\t\t\t\t<!-- twitter -->\n",
    "\t\t\t\t<a target=\"_blank\" href=\"https://twitter.com/intent/tweet?ref_src=twsrc%5Etfw&tw_p=tweetbutton&url=https%3A%2F%2Fjermwatt.github.io%2Fmlrefined%2F'''+name+'''.html\">\n",
    "\t\t\t\t\t<img src=\"demo_images/twitter.png\" width=28 height=28 onmouseover=\"this.src='demo_images/twitter_filled.png';\" onmouseout=\"this.src='demo_images/twitter.png';\">\n",
    "\t\t\t\t</a>\n",
    "\t\t\t</div>\n",
    "\t\n",
    "\t\t\t<div class=\"logo-share\"></div>\n",
    "\n",
    "\t\t\t<div class=\"logo-share\">\n",
    "\t\t\t\t<!-- facebook -->\n",
    "\t\t\t\t<a target=\"_blank\" href=\"https://www.facebook.com/sharer/sharer.php?u=https%3A%2F%2Fjermwatt.github.io%2Fmlrefined%2F'''+name+'''.html\">\n",
    "\t\t\t\t\t<img src=\"demo_images/facebook.png\" width=28 height=28 onmouseover=\"this.src='demo_images/facebook_filled.png';\" onmouseout=\"this.src='demo_images/facebook.png';\">\n",
    "\t\t\t\t</a>\n",
    "\t\t\t</div>\n",
    "\t\t</div>\n",
    "\n",
    "\t</div>\n",
    "</div>\n",
    "\n",
    "<br><br>\n",
    "\n",
    "<div class=\"page-title\" style=\"text-align: center !important;\">\n",
    "\t<span style=\"color: #333; font-size: 40%; letter-spacing: 3px;\">\n",
    "\t\t<span style=\"font-size: 80%;\">&#x25BA; </span><a href=\"'''+ series_url + '''\" style=\"color: black; cursor: pointer; text-transform: uppercase; font-weight:bold;\">'''+ series + '''</a>\n",
    "\t</span>\n",
    "\t<br><br>\n",
    "\t<mark style=\"padding: 0px; background-color: #f9f3c2;\">'''+ page_title +'''</mark>\n",
    "</div>\n",
    "<br>'''\n",
    "\n",
    "# parse script as BeautifulSoup object\n",
    "html_1 = BeautifulSoup(script_1,'html.parser')\n",
    "\n",
    "# insert it as the first element of the body tag, hence [0]\n",
    "soup.body.insert(0, html_1)"
   ]
  },
  {
   "cell_type": "code",
   "execution_count": null,
   "metadata": {
    "collapsed": true
   },
   "outputs": [],
   "source": [
    "# # This script adds comment section to the bottom of the page\n",
    "# script_2 = '''\n",
    "# <br><br><br><br><br><br>\n",
    "  \n",
    "# <!-- comment section -->  \n",
    "# <div id=\"disqus_thread\" style=\"width:70%; height:auto; margin:auto;\"></div>\n",
    "# <script>\n",
    "# (function() { // DON'T EDIT BELOW THIS LINE\n",
    "# var d = document, s = d.createElement('script');\n",
    "# s.src = 'https://mlrefined.disqus.com/embed.js';\n",
    "# s.setAttribute('data-timestamp', +new Date());\n",
    "# (d.head || d.body).appendChild(s);\n",
    "# })();\n",
    "# </script>\n",
    "# <noscript>Please enable JavaScript to view the <a href=\"https://disqus.com/?ref_noscript\">comments powered by Disqus.</a></noscript>  \n",
    "# '''\n",
    "\n",
    "# # parse script as BeautifulSoup object\n",
    "# html_2 = BeautifulSoup(script_2,'html.parser')\n",
    "\n",
    "# # insert it as the last element of body tag, hence: -1\n",
    "# soup.body.insert(-1, html_2)"
   ]
  },
  {
   "cell_type": "code",
   "execution_count": null,
   "metadata": {
    "collapsed": true
   },
   "outputs": [],
   "source": [
    "# This script changes default LateX font to a prettier version\n",
    "script_3 = '''\n",
    "    \n",
    "    <script type=\"text/x-mathjax-config\">\n",
    "    MathJax.Hub.Config({\n",
    "        tex2jax: {\n",
    "            inlineMath: [ ['$','$'], [\"\\\\\\(\",\"\\\\\\)\"] ],\n",
    "            displayMath: [ ['$$','$$'], [\"\\\\\\[\",\"\\\\\\]\"] ],\n",
    "            processEscapes: true,\n",
    "            processEnvironments: true\n",
    "        },\n",
    "        // Center justify equations in code and markdown cells. Elsewhere\n",
    "        // we use CSS to left justify single line equations in code cells.\n",
    "        displayAlign: 'center',\n",
    "        \"HTML-CSS\": {\n",
    "            availableFonts: [\"TeX\"],\n",
    "            preferredFont: \"TeX\",\n",
    "            styles: {'.MathJax_Display': {\"margin\": 0}},\n",
    "            linebreaks: { automatic: true }\n",
    "        }\n",
    "    });\n",
    "    </script>\n",
    "    \n",
    "    <link href=\"../../../custom.css\" rel=\"stylesheet\"/>\n",
    "    \n",
    "    <style>\n",
    "        p {\n",
    "            text-align: justify !important;\n",
    "            text-justify: inter-word !important;\n",
    "        }\n",
    "    </style>  \n",
    "    \n",
    "    '''\n",
    "# parse script as BeautifulSoup object\n",
    "html_3 = BeautifulSoup(script_3, 'html.parser')\n",
    "\n",
    "# replace the old font with the new font\n",
    "soup.head.find(text=re.compile(r'HTML-CSS')).parent.replace_with(html_3);"
   ]
  },
  {
   "cell_type": "code",
   "execution_count": null,
   "metadata": {
    "collapsed": true
   },
   "outputs": [],
   "source": [
    "# you have to render soup again (for some reason) before you can search it\n",
    "soup = BeautifulSoup(soup.renderContents(),\"lxml\")\n",
    "\n",
    "# remove old title\n",
    "soup.body.find_all('h1')[0].decompose()\n",
    "\n",
    "# remove old series title\n",
    "soup.body.find_all('h2')[0].decompose()"
   ]
  },
  {
   "cell_type": "code",
   "execution_count": null,
   "metadata": {
    "collapsed": true
   },
   "outputs": [],
   "source": [
    "# finish by spiting out modified soup as html\n",
    "with open(filename, \"wt\") as file:\n",
    "    file.write(str(soup))"
   ]
  },
  {
   "cell_type": "code",
   "execution_count": null,
   "metadata": {
    "collapsed": true
   },
   "outputs": [],
   "source": []
  }
 ],
 "metadata": {
  "kernelspec": {
   "display_name": "Python 3",
   "language": "python",
   "name": "python3"
  },
  "language_info": {
   "codemirror_mode": {
    "name": "ipython",
    "version": 3
   },
   "file_extension": ".py",
   "mimetype": "text/x-python",
   "name": "python",
   "nbconvert_exporter": "python",
   "pygments_lexer": "ipython3",
   "version": "3.5.0"
  },
  "toc": {
   "colors": {
    "hover_highlight": "#DAA520",
    "navigate_num": "#000000",
    "navigate_text": "#333333",
    "running_highlight": "#FF0000",
    "selected_highlight": "#FFD700",
    "sidebar_border": "#EEEEEE",
    "wrapper_background": "#FFFFFF"
   },
   "moveMenuLeft": true,
   "nav_menu": {
    "height": "12px",
    "width": "252px"
   },
   "navigate_menu": true,
   "number_sections": true,
   "sideBar": true,
   "threshold": 4,
   "toc_cell": false,
   "toc_section_display": "block",
   "toc_window_display": false,
   "widenNotebook": false
  }
 },
 "nbformat": 4,
 "nbformat_minor": 2
}
