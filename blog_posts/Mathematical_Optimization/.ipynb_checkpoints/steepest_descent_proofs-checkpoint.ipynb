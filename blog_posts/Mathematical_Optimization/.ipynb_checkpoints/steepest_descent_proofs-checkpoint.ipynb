{
 "cells": [
  {
   "cell_type": "markdown",
   "metadata": {},
   "source": [
    "## Steepest descent proofs"
   ]
  },
  {
   "cell_type": "markdown",
   "metadata": {},
   "source": [
    "### The $l_1$ norm"
   ]
  },
  {
   "cell_type": "markdown",
   "metadata": {},
   "source": [
    "In what follows we find a closed form solution to\n",
    "\n",
    "\\begin{equation}\n",
    "\\begin{array}{cc}\n",
    "\\underset{\\mathbf{x}}{\\text{maximize}} & \\mathbf{b}^{T}\\mathbf{x}\\\\\n",
    "\\text{subject to} & \\left\\Vert \\mathbf{x}\\right\\Vert _{1}=1\\\\\n",
    "\\end{array}\n",
    "\\end{equation}\n",
    "\n",
    "written entry-wise as\n",
    "\n",
    "\\begin{equation}\n",
    "\\begin{array}{cc}\n",
    "\\underset{x_1,\\,x_2,\\,\\ldots,\\, x_n}{\\text{maximize}} & b_1x_1+b_2x_2+\\cdots+b_nx_n\\\\\n",
    "\\text{subject to} & \\left\\vert x_1\\right\\vert + \\left\\vert x_2\\right\\vert + \\cdots + \\left\\vert x_n\\right\\vert =1\\\\\n",
    "\\end{array}\n",
    "\\end{equation}\n",
    "\n",
    "Firstly notice that if the mathematical sign of $x_i$ differs from that of $b_i$, then replacing $x_i$ with $-x_i$ would increase (or at least not decrease) the objective value without violating the equality constraint. Therefore by writing $x_i$ as\n",
    "\n",
    "$$x_i=\\text{sgn}(b_i)\\,y_i$$\n",
    "\n",
    "where $y_i$'s are now all nonnegative, our original problem can be reformulated equaivalently as \n",
    "\n",
    "\\begin{equation}\n",
    "\\begin{array}{cc}\n",
    "\\underset{y_1,\\,y_2,\\,\\ldots,\\, y_n}{\\text{maximize}} & b_1\\,\\text{sgn}(b_1)\\,y_1+b_2\\,\\text{sgn}(b_2)\\,y_2+\\cdots+b_n\\,\\text{sgn}(b_n)\\,y_n\\\\\n",
    "\\text{subject to} &  \\left\\vert \\text{sgn}(b_1)\\,y_1\\right\\vert + \\left\\vert \\text{sgn}(b_2)\\,y_2\\right\\vert + \\cdots + \\left\\vert \\text{sgn}(b_n)\\,y_n\\right\\vert =1\\\\\n",
    "& y_1, y_2, \\ldots, y_n \\geq 0\\\\\n",
    "\\end{array}\n",
    "\\end{equation}\n",
    "\n",
    "Noticing that we have $b_i\\,\\text{sgn}(b_i)\\,y_i=\\left\\vert b_i\\right\\vert \\,y_i$ (in the objective), and $\\left\\vert \\text{sgn}(b_i)\\,y_i\\right\\vert = \\left\\vert \\text{sgn}(b_i)\\right\\vert \\left\\vert y_i\\right\\vert = y_i$, we can rewrite the optimization problem as \n",
    "\n",
    "\\begin{equation}\n",
    "\\begin{array}{cc}\n",
    "\\underset{y_1,\\,y_2,\\,\\ldots,\\, y_n}{\\text{maximize}} & \\left\\vert b_1\\right\\vert y_1+\\left\\vert b_2\\right\\vert y_2+\\cdots+\\left\\vert b_n\\right\\vert y_n\\\\\n",
    "\\text{subject to} &  y_1 +  y_2 + \\cdots +  y_n =1\\\\\n",
    "& y_1, y_2, \\ldots, y_n \\geq 0\\\\\n",
    "\\end{array}\n",
    "\\end{equation}\n",
    "\n"
   ]
  },
  {
   "cell_type": "markdown",
   "metadata": {},
   "source": [
    "Finally, denoting by $j$ the index of the largest entry in $\\mathbf{b}$ (in terms of magnitude)\n",
    "\n",
    "$$j=\\underset{i=1,\\,2,\\,\\ldots,\\, n}{\\text{argmax}}\\left|b_{i}\\right|$$\n",
    "\n",
    "we can find an upperbound to the objective\n",
    "\n",
    "$$\\left|b_{1}\\right|y_{1}+\\left|b_{2}\\right|y_{2}+\\ldots+\\left|b_{n}\\right|y_{n}\\leq\\left|b_{j}\\right|y_{1}+\\left|b_{j}\\right|y_{2}+\\ldots+\\left|b_{j}\\right|y_{n}=\\left|b_{j}\\right|$$\n",
    "\n",
    "Notice that the $j^{th}$ standard basis vector (having one in its $j^{th}$ position and zero elsewhere) gives the same value as this upperbound, and hence $\\mathbf{y}=\\mathbf{e}_{j}$ is a solution to the reformulated optimization problem. The solution to the original problem is then given by \n",
    "\n",
    "$$\\mathbf{x}^{\\star}=\\text{sgn}(b_j)\\,\\mathbf{e}_{j}$$"
   ]
  },
  {
   "cell_type": "markdown",
   "metadata": {},
   "source": [
    "### The $l_\\infty$ norm"
   ]
  },
  {
   "cell_type": "markdown",
   "metadata": {},
   "source": [
    "Here we find a closed form solution to\n",
    "\n",
    "\\begin{equation}\n",
    "\\begin{array}{cc}\n",
    "\\underset{\\mathbf{x}}{\\text{maximize}} & \\mathbf{b}^{T}\\mathbf{x}\\\\\n",
    "\\text{subject to} & \\left\\Vert \\mathbf{x}\\right\\Vert _{\\infty}=1\\\\\n",
    "\\end{array}\n",
    "\\end{equation}\n",
    "\n",
    "written entry-wise as\n",
    "\n",
    "\\begin{equation}\n",
    "\\begin{array}{cc}\n",
    "\\underset{x_1,\\,x_2,\\,\\ldots,\\, x_n}{\\text{maximize}} & b_1x_1+b_2x_2+\\cdots+b_nx_n\\\\\n",
    "\\text{subject to} & \\text{max}\\left\\{ \\left|x_{1}\\right|,\\,\\left|x_{2}\\right|,\\,\\ldots,\\,\\left|x_{n}\\right|\\right\\} =1\\\\\n",
    "\\end{array}\n",
    "\\end{equation}"
   ]
  },
  {
   "cell_type": "markdown",
   "metadata": {},
   "source": [
    "Notice that the constraint set \n",
    "\n",
    "$$\\mathcal{S}=\\left\\{ \\mathbf{x}\\left|\\text{ max}\\left(\\left|x_{1}\\right|,\\,\\left|x_{2}\\right|,\\,\\ldots,\\,\\left|x_{n}\\right|\\right)=1\\right.\\right\\}$$\n",
    "\n",
    "is a subset of the set \n",
    "\n",
    "$$\\mathcal{T}=\\left\\{ \\mathbf{x}\\left|\\, -1\\leq x_{1},\\,x_{2},\\,\\ldots,\\,x_{n}\\leq1\\right.\\right\\}$$\n",
    "\n"
   ]
  },
  {
   "cell_type": "markdown",
   "metadata": {},
   "source": [
    "Therefore the maximum objective value subject to $\\mathbf{x}\\in\\mathcal{S}$ is upperbounded by the maximum objective value subject to $\\mathbf{x}\\in\\mathcal{T}$. The latter problem can be written as"
   ]
  },
  {
   "cell_type": "markdown",
   "metadata": {},
   "source": [
    "\\begin{equation}\n",
    "\\begin{array}{cc}\n",
    "\\underset{x_1,\\,x_2,\\,\\ldots,\\, x_n}{\\text{maximize}} & b_1x_1+b_2x_2+\\cdots+b_nx_n\\\\\n",
    "\\text{subject to} & -1\\leq x_{i}\\leq1,\\;\\forall i \\\\\n",
    "\\end{array}\n",
    "\\end{equation}"
   ]
  },
  {
   "cell_type": "markdown",
   "metadata": {},
   "source": [
    "Now note that this problem can be broken down into $n$ independent optimization problems of the form "
   ]
  },
  {
   "cell_type": "markdown",
   "metadata": {},
   "source": [
    "\\begin{equation}\n",
    "\\begin{array}{cc}\n",
    "\\underset{x_i}{\\text{maximize}} & b_ix_i\\\\\n",
    "\\text{subject to} & -1\\leq x_{i}\\leq1 \\\\\n",
    "\\end{array}\n",
    "\\end{equation}"
   ]
  },
  {
   "cell_type": "markdown",
   "metadata": {},
   "source": [
    "with the easily calculable solution given as $x_i^{\\star}=\\text{sgn}(b_i)$. Taken all together\n",
    "\n",
    "$$\\mathbf{x}^{\\star}=\\text{sgn}(\\mathbf{b})$$\n",
    "\n",
    "maximizes the objective subject to $\\mathbf{x}\\in\\mathcal{T}$. Given we have that $\\mathbf{x}^{\\star}\\in\\mathcal{S}$ as well, $\\mathbf{x}^{\\star}$ also maximizes the objective subject to $\\mathbf{x}\\in\\mathcal{S}$. "
   ]
  }
 ],
 "metadata": {
  "kernelspec": {
   "display_name": "Python 3",
   "language": "python",
   "name": "python3"
  },
  "language_info": {
   "codemirror_mode": {
    "name": "ipython",
    "version": 3
   },
   "file_extension": ".py",
   "mimetype": "text/x-python",
   "name": "python",
   "nbconvert_exporter": "python",
   "pygments_lexer": "ipython3",
   "version": "3.5.3"
  },
  "toc": {
   "colors": {
    "hover_highlight": "#DAA520",
    "navigate_num": "#000000",
    "navigate_text": "#333333",
    "running_highlight": "#FF0000",
    "selected_highlight": "#FFD700",
    "sidebar_border": "#EEEEEE",
    "wrapper_background": "#FFFFFF"
   },
   "moveMenuLeft": true,
   "nav_menu": {
    "height": "30px",
    "width": "252px"
   },
   "navigate_menu": true,
   "number_sections": true,
   "sideBar": true,
   "threshold": 4,
   "toc_cell": false,
   "toc_section_display": "block",
   "toc_window_display": false,
   "widenNotebook": false
  }
 },
 "nbformat": 4,
 "nbformat_minor": 2
}
