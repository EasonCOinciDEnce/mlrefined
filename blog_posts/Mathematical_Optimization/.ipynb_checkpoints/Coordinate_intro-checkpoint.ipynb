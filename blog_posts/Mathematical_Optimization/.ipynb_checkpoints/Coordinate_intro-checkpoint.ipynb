{
 "cells": [
  {
   "cell_type": "code",
   "execution_count": 1,
   "metadata": {
    "collapsed": true
   },
   "outputs": [],
   "source": [
    "# imports from custom library\n",
    "import sys\n",
    "sys.path.append('../../')\n",
    "import matplotlib.pyplot as plt\n",
    "from mlrefined_libraries import basics_library as baslib\n",
    "from mlrefined_libraries import math_optimization_library as optlib\n",
    "import autograd.numpy as np\n",
    "from matplotlib import gridspec\n",
    "import math\n",
    "%matplotlib notebook\n",
    "\n",
    "# this is needed to compensate for %matplotlib notebook's tendancy to blow up images when plotted inline\n",
    "from matplotlib import rcParams\n",
    "rcParams['figure.autolayout'] = True\n",
    "\n",
    "%load_ext autoreload\n",
    "%autoreload 2"
   ]
  },
  {
   "cell_type": "markdown",
   "metadata": {},
   "source": [
    "# 2.  Direct solution and coordinate descent"
   ]
  },
  {
   "cell_type": "markdown",
   "metadata": {},
   "source": [
    "As described in our series on the *vital elements of calculus* the *first order condition for optimality* is a powerful calculus-based way of characterizing the minima of a function.  This condition states that stationary points - which include local minima, maxima, and saddle points - must satisfy the system of equations $\\nabla g(\\mathbf{w}) = \\mathbf{0}_{N\\times 1}$ or written out individually\n",
    "\n",
    "\\begin{array}\n",
    "\\\n",
    "\\frac{\\partial}{\\partial w_{1}}g(\\mathbf{w})=0,\\\\\n",
    "\\frac{\\partial}{\\partial w_{2}}g(\\mathbf{w})=0,\\\\\n",
    "\\,\\,\\,\\,\\,\\,\\,\\,\\,\\,\\vdots \\\\\n",
    "\\frac{\\partial}{\\partial w_{N}}g(\\mathbf{w})=0.\n",
    "\\end{array}"
   ]
  },
  {
   "cell_type": "markdown",
   "metadata": {},
   "source": [
    "If we could solve such systems in general directly ('by hand') the minimization problem would be solved.  Unfortunately, as we saw previously, this can rarely be done.  First and foremost, even in with a single variable $g(w)$ this system - which reduces to a single equation - can be impossible to solve by hand.  Greatly compounding this issue is the fact that solving a system of $N$ simultaneous equations 'by hand' - even when each individual equation is extremely simple (e.g., a linear combination) - is virtually impossible.  \n",
    "\n",
    "Here we describe our first mathematical optimization algorithm - called *coordinate descent* - that is specifically designed to deal with the latter problem (the *simulatenous* system of $N$ equations part).  It is perhaps the first thing one might try in order to salvage the first order condition as a way of directly finding local minima.  Nonetheless though it is extremely simple coordinate descent is still the most widely used optimization method for a number of machine learning problems - largely in the realm of *unsupervised learning* including K-Means clustering, nonnegative matrix factorization problems, recommender systems, and general matrix factorization problems."
   ]
  },
  {
   "cell_type": "markdown",
   "metadata": {},
   "source": [
    "## 2.1  From simultaneous to cyclic equations"
   ]
  },
  {
   "cell_type": "markdown",
   "metadata": {},
   "source": [
    "With coordinate descent instead of trying to solve the $N$ equations simultaneously, we break up the system into its individual equations and solve each one-by-one.  Then if each of the equations is relatively simple, we can easily solve them in a one-off fashion.  Of course solving each equation alone a single time is not equivalent to solving the whole system together, so we must cycle through the system a number of times repeatedly solving each individual equation in order for the solution of this approach to approximate the true solution to the original simultaneous system.\n",
    "\n",
    "Of course if each individual equation cannot be solved by hand then the idea is sunk, since thus far we have no tools for solving such complex single-input equations (later we will see a method called *Newton's method* for doing this).  This intuitively implies that coordinate descent is limited to systems of equations consisting of single-input equations whose first order systems we can indeed solve directly, which is generally speaking true.  "
   ]
  }
 ],
 "metadata": {
  "kernelspec": {
   "display_name": "Python 3",
   "language": "python",
   "name": "python3"
  },
  "language_info": {
   "codemirror_mode": {
    "name": "ipython",
    "version": 3
   },
   "file_extension": ".py",
   "mimetype": "text/x-python",
   "name": "python",
   "nbconvert_exporter": "python",
   "pygments_lexer": "ipython3",
   "version": "3.5.3"
  },
  "toc": {
   "colors": {
    "hover_highlight": "#DAA520",
    "navigate_num": "#000000",
    "navigate_text": "#333333",
    "running_highlight": "#FF0000",
    "selected_highlight": "#FFD700",
    "sidebar_border": "#EEEEEE",
    "wrapper_background": "#FFFFFF"
   },
   "moveMenuLeft": true,
   "nav_menu": {
    "height": "49px",
    "width": "252px"
   },
   "navigate_menu": true,
   "number_sections": false,
   "sideBar": true,
   "threshold": 4,
   "toc_cell": false,
   "toc_section_display": "block",
   "toc_window_display": false,
   "widenNotebook": false
  }
 },
 "nbformat": 4,
 "nbformat_minor": 2
}
