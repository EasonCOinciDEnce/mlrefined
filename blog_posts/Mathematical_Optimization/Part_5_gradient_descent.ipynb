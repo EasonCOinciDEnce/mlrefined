{
 "cells": [
  {
   "cell_type": "markdown",
   "metadata": {},
   "source": [
    "## Mathematical Optimization Series"
   ]
  },
  {
   "cell_type": "markdown",
   "metadata": {},
   "source": [
    "# Part 4: The basic gradient descent algorithm"
   ]
  },
  {
   "cell_type": "markdown",
   "metadata": {},
   "source": [
    "In this post we describe the basic gradient descent algorithm.  While inherently very simple gradient descent - and its extensions - is one of the most popular mathematical optimization algorithms used in practice today."
   ]
  },
  {
   "cell_type": "code",
   "execution_count": null,
   "metadata": {
    "collapsed": true
   },
   "outputs": [],
   "source": [
    "# imports from custom library\n",
    "import sys\n",
    "sys.path.append('../../')\n",
    "import matplotlib.pyplot as plt\n",
    "from mlrefined_libraries import basics_library as baslib\n",
    "from mlrefined_libraries import math_optimization_library as optlib\n",
    "import autograd.numpy as np\n",
    "%matplotlib notebook\n",
    "\n",
    "%load_ext autoreload\n",
    "%autoreload 2"
   ]
  },
  {
   "cell_type": "markdown",
   "metadata": {},
   "source": [
    "#  1.  Gradient descent"
   ]
  },
  {
   "cell_type": "markdown",
   "metadata": {},
   "source": [
    "In this Section we describe our first mathematical optimization algorithm - the basic gradient descent scheme.  "
   ]
  },
  {
   "cell_type": "code",
   "execution_count": null,
   "metadata": {
    "collapsed": true
   },
   "outputs": [],
   "source": []
  },
  {
   "cell_type": "markdown",
   "metadata": {},
   "source": [
    "## 1.1  The basic idea"
   ]
  },
  {
   "cell_type": "markdown",
   "metadata": {},
   "source": [
    "In the previous post we described how - at a high level - all mathematical algorithms find the global minimum of a function by iteratively taking steps that decrease the value of a function as the algorithm runs.  However determining which direction to travel in order to decrease the value of a function - at least by examining the function directly - is no simple matter in general.  This is because a function that takes in $N$ inputs.\n",
    "\n",
    "All of these algorithms share one common feature: because it is very difficult to determine which \n",
    "\n",
    "The defining characteristic distinguishing various mathematical optimization schemes is then the way these iterative steps are taken in reducing the value of $g$."
   ]
  },
  {
   "cell_type": "markdown",
   "metadata": {},
   "source": [
    "Gradient descent is an algorithm designed to do this by repeatedly employing the first order Taylor Series approximation of a function.  As described in our *Vital Elements of Calculus* series the first order Taylor Series approximation provides a local linear approximation (a tangent line or hyperplane) of a function centered about a given point.  \n",
    "\n",
    "With gradient descent in short we repeatedly form this linear approximation  "
   ]
  },
  {
   "cell_type": "markdown",
   "metadata": {},
   "source": [
    "\n",
    "As illustrated in Figure the basic idea with gradient descent is to build a linear model of the function $g$, determine the 'downward' direction on this hyperplane, travel a short distance along this direction, hop back on to the function $g$, and repeat until convergence. Starting at an initial point $\\mathbf{w}^{0}$ and by carefully choosing how far we travel at each step, the gradient descent procedure produces a sequence of points $\\mathbf{w}^{1},\\,\\mathbf{w}^{2},\\,\\mathbf{w}^{3}...$, that shrinks the value of $g$ at each step and eventually reaches a stationary point of $g$. "
   ]
  },
  {
   "cell_type": "code",
   "execution_count": 1,
   "metadata": {
    "collapsed": true
   },
   "outputs": [],
   "source": []
  }
 ],
 "metadata": {
  "kernelspec": {
   "display_name": "Python 3",
   "language": "python",
   "name": "python3"
  },
  "language_info": {
   "codemirror_mode": {
    "name": "ipython",
    "version": 3
   },
   "file_extension": ".py",
   "mimetype": "text/x-python",
   "name": "python",
   "nbconvert_exporter": "python",
   "pygments_lexer": "ipython3",
   "version": "3.5.3"
  },
  "toc": {
   "colors": {
    "hover_highlight": "#DAA520",
    "navigate_num": "#000000",
    "navigate_text": "#333333",
    "running_highlight": "#FF0000",
    "selected_highlight": "#FFD700",
    "sidebar_border": "#EEEEEE",
    "wrapper_background": "#FFFFFF"
   },
   "moveMenuLeft": true,
   "nav_menu": {
    "height": "103px",
    "width": "252px"
   },
   "navigate_menu": true,
   "number_sections": false,
   "sideBar": true,
   "threshold": 4,
   "toc_cell": false,
   "toc_section_display": "block",
   "toc_window_display": false,
   "widenNotebook": false
  }
 },
 "nbformat": 4,
 "nbformat_minor": 2
}
