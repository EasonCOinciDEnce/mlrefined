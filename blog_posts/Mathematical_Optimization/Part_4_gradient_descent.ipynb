{
 "cells": [
  {
   "cell_type": "markdown",
   "metadata": {},
   "source": [
    "## Mathematical Optimization Series"
   ]
  },
  {
   "cell_type": "markdown",
   "metadata": {},
   "source": [
    "# Part 4: Gradient descent"
   ]
  },
  {
   "cell_type": "markdown",
   "metadata": {},
   "source": [
    "The defining characteristic differentiating various numerical optimization\n",
    "methods is the way iterative steps are taken for reducing the value\n",
    "of $g$. The two classic methods, gradient descent and Newton's method,\n",
    "use local models for the function at each step in order to find smaller\n",
    "and smaller values of the function. As illustrated in Figure \\ref{fig:Gradient =00003D linear approximation}\n",
    "the basic idea with gradient descent is to build a linear model of\n",
    "the function $g$, determine the 'downward' direction on this hyperplane,\n",
    "travel a short distance along this direction, hop back on to the function\n",
    "$g$, and repeat until convergence. Starting at an initial point $\\mathbf{w}^{0}$\n",
    "and by carefully choosing how far we travel at each step, the gradient\n",
    "descent procedure produces a sequence of points $\\mathbf{w}^{1},\\,\\mathbf{w}^{2},\\,\\mathbf{w}^{3}...$,\n",
    "that shrinks the value of $g$ at each step and eventually reaches\n",
    "a stationary point of $g$. \n"
   ]
  },
  {
   "cell_type": "markdown",
   "metadata": {},
   "source": []
  },
  {
   "cell_type": "code",
   "execution_count": 1,
   "metadata": {
    "collapsed": true
   },
   "outputs": [],
   "source": [
    "# imports from custom library\n",
    "import sys\n",
    "sys.path.append('../../')\n",
    "import matplotlib.pyplot as plt\n",
    "from mlrefined_libraries import basics_library as baslib\n",
    "from mlrefined_libraries import math_optimization_library as optlib\n",
    "import autograd.numpy as np\n",
    "%matplotlib notebook\n",
    "\n",
    "%load_ext autoreload\n",
    "%autoreload 2"
   ]
  }
 ],
 "metadata": {
  "kernelspec": {
   "display_name": "Python 3",
   "language": "python",
   "name": "python3"
  },
  "language_info": {
   "codemirror_mode": {
    "name": "ipython",
    "version": 3
   },
   "file_extension": ".py",
   "mimetype": "text/x-python",
   "name": "python",
   "nbconvert_exporter": "python",
   "pygments_lexer": "ipython3",
   "version": "3.5.3"
  },
  "toc": {
   "colors": {
    "hover_highlight": "#DAA520",
    "navigate_num": "#000000",
    "navigate_text": "#333333",
    "running_highlight": "#FF0000",
    "selected_highlight": "#FFD700",
    "sidebar_border": "#EEEEEE",
    "wrapper_background": "#FFFFFF"
   },
   "moveMenuLeft": true,
   "nav_menu": {
    "height": "103px",
    "width": "252px"
   },
   "navigate_menu": true,
   "number_sections": false,
   "sideBar": true,
   "threshold": 4,
   "toc_cell": false,
   "toc_section_display": "block",
   "toc_window_display": false,
   "widenNotebook": false
  }
 },
 "nbformat": 4,
 "nbformat_minor": 2
}
