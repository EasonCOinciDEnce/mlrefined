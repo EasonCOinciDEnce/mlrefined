{
 "cells": [
  {
   "cell_type": "code",
   "execution_count": null,
   "metadata": {
    "collapsed": true
   },
   "outputs": [],
   "source": [
    "# make dataset\n",
    "num_bot = 5\n",
    "x_bot = 2*np.random.rand(num_bot)-1\n",
    "x_bot = np.sort(x_bot)\n",
    "x_bot.shape = (len(x_bot),1)\n",
    "y_bot = -np.ones((len(x_bot),1))\n",
    "\n",
    "num_top = 0\n",
    "x_top = 4*np.random.rand(num_top) + 1\n",
    "x_top = x_top.tolist()\n",
    "x_top.append(4)\n",
    "x_top.append(4.3)\n",
    "x_top.append(4.5)\n",
    "x_top.append(4.7)\n",
    "\n",
    "x_top.append(1.1)\n",
    "x_top.append(1.4)\n",
    "x_top = np.asarray(x_top)\n",
    "x_top = np.sort(x_top)\n",
    "x_top.shape = (len(x_top),1)\n",
    "y_top = np.ones((len(x_top),1))\n",
    "\n",
    "\n",
    "x = np.concatenate((x_bot,x_top),axis = 0)\n",
    "y = np.concatenate((y_bot,y_top),axis = 0)\n",
    "\n",
    "data = np.concatenate((x,y),axis=1)"
   ]
  }
 ],
 "metadata": {
  "kernelspec": {
   "display_name": "Python 3",
   "language": "python",
   "name": "python3"
  },
  "language_info": {
   "codemirror_mode": {
    "name": "ipython",
    "version": 3
   },
   "file_extension": ".py",
   "mimetype": "text/x-python",
   "name": "python",
   "nbconvert_exporter": "python",
   "pygments_lexer": "ipython3",
   "version": "3.5.3"
  },
  "toc": {
   "colors": {
    "hover_highlight": "#DAA520",
    "navigate_num": "#000000",
    "navigate_text": "#333333",
    "running_highlight": "#FF0000",
    "selected_highlight": "#FFD700",
    "sidebar_border": "#EEEEEE",
    "wrapper_background": "#FFFFFF"
   },
   "moveMenuLeft": true,
   "nav_menu": {
    "height": "12px",
    "width": "252px"
   },
   "navigate_menu": true,
   "number_sections": false,
   "sideBar": true,
   "threshold": 4,
   "toc_cell": false,
   "toc_section_display": "block",
   "toc_window_display": false,
   "widenNotebook": false
  }
 },
 "nbformat": 4,
 "nbformat_minor": 2
}
